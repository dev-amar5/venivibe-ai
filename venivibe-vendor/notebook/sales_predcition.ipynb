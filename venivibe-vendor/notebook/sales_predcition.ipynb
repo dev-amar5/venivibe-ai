{
 "cells": [
  {
   "cell_type": "code",
   "id": "initial_id",
   "metadata": {
    "collapsed": true,
    "ExecuteTime": {
     "end_time": "2025-10-15T06:04:54.757573Z",
     "start_time": "2025-10-15T06:04:54.703203Z"
    }
   },
   "source": [
    "from sqlalchemy import text\n",
    "from typing import List\n",
    "from sqlalchemy.orm import Session\n",
    "from db import SessionLocal\n",
    "import pandas as pd\n",
    "import numpy as np\n",
    "from statsmodels.tsa.holtwinters import SimpleExpSmoothing\n",
    "from sklearn.linear_model import LinearRegression\n",
    "\n",
    "\n",
    "from datetime import timedelta\n",
    "from typing import Dict, Any\n",
    "import numpy as np\n",
    "import pandas as pd\n",
    "from sqlalchemy.orm import Session\n",
    "from sqlalchemy.sql import text\n",
    "from statsmodels.tsa.holtwinters import SimpleExpSmoothing\n",
    "from sklearn.linear_model import LinearRegression\n",
    "\n",
    "\n",
    "def sales_predict(event_id: str, db: Session, n_future: int = 6, w: float = 0) -> Dict[str, Any]:\n",
    "    # Fetch sales data\n",
    "    result = db.execute(text(\"\"\"\n",
    "        SELECT o.created_at, pt.quantity, pt.quantity * tt.price AS sales\n",
    "        FROM orders o\n",
    "        JOIN purchased_tickets pt ON o.id = pt.order_id\n",
    "        JOIN ticket_types tt ON o.event_id = tt.event_id\n",
    "        WHERE o.event_id = :event_id\n",
    "        ORDER BY o.created_at\n",
    "    \"\"\"), {\"event_id\": event_id}).fetchall()\n",
    "\n",
    "    df = pd.DataFrame(result, columns=[\"created_at\", \"quantity\", \"price\"])\n",
    "\n",
    "    if df.empty:\n",
    "        return {\"historical\": [], \"predicted\": []}\n",
    "\n",
    "    # Historical sales\n",
    "    sales = np.array(df[\"price\"]).astype(int)\n",
    "    time = np.arange(len(sales)).reshape(-1, 1)\n",
    "\n",
    "    # Linear Regression Forecast\n",
    "    lr = LinearRegression().fit(time, sales)\n",
    "    time_future = np.arange(len(sales), len(sales) + n_future).reshape(-1, 1)\n",
    "    lr_forecast_future = lr.predict(time_future)\n",
    "\n",
    "    # Simple Exponential Smoothing Forecast\n",
    "    ses_model = SimpleExpSmoothing(sales).fit(smoothing_level=0.5, optimized=False)\n",
    "    ses_forecast_future = ses_model.forecast(n_future)\n",
    "\n",
    "    # Combine (Hybrid Forecast)\n",
    "    final_forecast_future = (1 - w) * ses_forecast_future + w * lr_forecast_future\n",
    "\n",
    "    # Build date ranges\n",
    "    last_date = pd.to_datetime(df[\"created_at\"].iloc[-1])\n",
    "    future_dates = [last_date + timedelta(days=i + 1) for i in range(n_future)]\n",
    "\n",
    "    # Format data for chart\n",
    "    historical_data = [\n",
    "        {\"date\": str(d.date()), \"sales\": int(s)} for d, s in zip(df[\"created_at\"], sales)\n",
    "    ]\n",
    "    predicted_data = [\n",
    "        {\"date\": str(d.date()), \"forecast\": float(f)} for d, f in zip(future_dates, final_forecast_future)\n",
    "    ]\n",
    "\n",
    "    return {\"historical\": historical_data, \"predicted\": predicted_data}\n"
   ],
   "outputs": [],
   "execution_count": 100
  },
  {
   "metadata": {
    "ExecuteTime": {
     "end_time": "2025-10-15T06:04:55.408192Z",
     "start_time": "2025-10-15T06:04:54.919695Z"
    }
   },
   "cell_type": "code",
   "source": [
    "db = SessionLocal()\n",
    "event_id = '32f51670-5855-4296-89a8-b2016a7020a3'\n",
    "\n",
    "print(sales_predict(event_id=event_id,db=db))"
   ],
   "id": "85180e9bdc15f0b9",
   "outputs": [
    {
     "name": "stdout",
     "output_type": "stream",
     "text": [
      "{'historical': [{'date': '2025-09-17', 'sales': 100}, {'date': '2025-09-19', 'sales': 600}, {'date': '2025-09-25', 'sales': 200}, {'date': '2025-09-25', 'sales': 100}, {'date': '2025-09-25', 'sales': 100}, {'date': '2025-09-25', 'sales': 200}, {'date': '2025-09-25', 'sales': 200}, {'date': '2025-09-25', 'sales': 100}, {'date': '2025-09-25', 'sales': 400}, {'date': '2025-09-25', 'sales': 100}, {'date': '2025-09-26', 'sales': 100}, {'date': '2025-09-26', 'sales': 100}, {'date': '2025-09-26', 'sales': 100}, {'date': '2025-10-30', 'sales': 300}], 'predicted': [{'date': '2025-10-31', 'forecast': 205.35888671875}, {'date': '2025-11-01', 'forecast': 205.35888671875}, {'date': '2025-11-02', 'forecast': 205.35888671875}, {'date': '2025-11-03', 'forecast': 205.35888671875}, {'date': '2025-11-04', 'forecast': 205.35888671875}, {'date': '2025-11-05', 'forecast': 205.35888671875}]}\n"
     ]
    }
   ],
   "execution_count": 101
  },
  {
   "metadata": {
    "ExecuteTime": {
     "end_time": "2025-10-15T06:04:55.815743Z",
     "start_time": "2025-10-15T06:04:55.519951Z"
    }
   },
   "cell_type": "code",
   "source": [
    "result = db.execute(text(\"\"\"\n",
    "    SELECT o.created_at, pt.quantity, pt.quantity * tt.price AS sales\n",
    "    FROM orders o\n",
    "    JOIN purchased_tickets pt ON o.id = pt.order_id\n",
    "    JOIN ticket_types tt ON o.event_id = tt.event_id\n",
    "    WHERE o.event_id = :event_id\n",
    "    ORDER BY o.created_at\n",
    "\"\"\"), {\"event_id\": event_id}).fetchall()\n",
    "df=pd.DataFrame(result)\n",
    "df['created_at']=df['created_at'].dt.date\n",
    "df.groupby('created_at')['sales'].sum()\n",
    "\n"
   ],
   "id": "df56805284dbf3e7",
   "outputs": [
    {
     "data": {
      "text/plain": [
       "created_at\n",
       "2025-09-17     100.00\n",
       "2025-09-19     600.00\n",
       "2025-09-25    1400.00\n",
       "2025-09-26     300.00\n",
       "2025-10-30     300.00\n",
       "Name: sales, dtype: object"
      ]
     },
     "execution_count": 102,
     "metadata": {},
     "output_type": "execute_result"
    }
   ],
   "execution_count": 102
  },
  {
   "metadata": {
    "ExecuteTime": {
     "end_time": "2025-10-15T06:04:55.966004Z",
     "start_time": "2025-10-15T06:04:55.939271Z"
    }
   },
   "cell_type": "code",
   "source": [
    "from sqlalchemy import text\n",
    "import pandas as pd\n",
    "import numpy as np\n",
    "from sklearn.linear_model import LinearRegression\n",
    "from statsmodels.tsa.holtwinters import SimpleExpSmoothing\n",
    "from datetime import timedelta\n",
    "\n",
    "def hybrid_forecast_api(event_id, db, n_future=6, w=0.5):\n",
    "    # 1️⃣ Fetch data\n",
    "    result = db.execute(text(\"\"\"\n",
    "        SELECT o.created_at, pt.quantity, pt.quantity * tt.price AS sales\n",
    "        FROM orders o\n",
    "        JOIN purchased_tickets pt ON o.id = pt.order_id\n",
    "        JOIN ticket_types tt ON o.event_id = tt.event_id\n",
    "        WHERE o.event_id = :event_id\n",
    "        ORDER BY o.created_at\n",
    "    \"\"\"), {\"event_id\": event_id}).fetchall()\n",
    "\n",
    "    df = pd.DataFrame(result, columns=['created_at', 'quantity', 'sales'])\n",
    "    df['created_at'] = pd.to_datetime(df['created_at']).dt.date\n",
    "\n",
    "    # 2️⃣ Group by date\n",
    "    daily_sales = df.groupby('created_at')['sales'].sum().reset_index()\n",
    "\n",
    "    # 3️⃣ Prepare data\n",
    "    sales = daily_sales['sales'].astype(float).values\n",
    "    time = np.arange(len(sales)).reshape(-1, 1)\n",
    "\n",
    "    # 4️⃣ Fit Linear Regression\n",
    "    lr = LinearRegression().fit(time, sales)\n",
    "\n",
    "    # 5️⃣ Fit Simple Exponential Smoothing\n",
    "    ses_model = SimpleExpSmoothing(sales).fit(smoothing_level=0.5, optimized=False)\n",
    "\n",
    "    # 6️⃣ Forecast next n_future days\n",
    "    future_dates = [daily_sales['created_at'].max() + timedelta(days=i+1) for i in range(n_future)]\n",
    "    lr_forecast = [lr.predict([[len(sales)+i]])[0] for i in range(n_future)]\n",
    "    ses_forecast = ses_model.forecast(n_future)\n",
    "    final_forecast = [(1-w)*ses + w*lr for ses, lr in zip(ses_forecast, lr_forecast)]\n",
    "\n",
    "    # 7️⃣ Convert to JSON-friendly format\n",
    "    historical = daily_sales.rename(columns={'created_at':'date', 'sales':'sales'}).to_dict(orient='records')\n",
    "    forecast = [{\"date\": str(d), \"forecast_sales\": float(f)} for d, f in zip(future_dates, final_forecast)]\n",
    "\n",
    "    return [{\"historical\": historical, \"forecast\": forecast}, daily_sales]\n"
   ],
   "id": "9d44ae07776609f3",
   "outputs": [],
   "execution_count": 103
  },
  {
   "metadata": {
    "ExecuteTime": {
     "end_time": "2025-10-15T06:04:56.265198Z",
     "start_time": "2025-10-15T06:04:55.988772Z"
    }
   },
   "cell_type": "code",
   "source": [
    "forecast = hybrid_forecast_api(event_id=event_id, db=db, w=0.6)\n",
    "forecast[0]\n",
    "\n"
   ],
   "id": "b1e03fa8cea3dac2",
   "outputs": [
    {
     "data": {
      "text/plain": [
       "{'historical': [{'date': datetime.date(2025, 9, 17),\n",
       "   'sales': Decimal('100.00')},\n",
       "  {'date': datetime.date(2025, 9, 19), 'sales': Decimal('600.00')},\n",
       "  {'date': datetime.date(2025, 9, 25), 'sales': Decimal('1400.00')},\n",
       "  {'date': datetime.date(2025, 9, 26), 'sales': Decimal('300.00')},\n",
       "  {'date': datetime.date(2025, 10, 30), 'sales': Decimal('300.00')}],\n",
       " 'forecast': [{'date': '2025-10-31', 'forecast_sales': 519.5},\n",
       "  {'date': '2025-11-01', 'forecast_sales': 525.5},\n",
       "  {'date': '2025-11-02', 'forecast_sales': 531.5000000000001},\n",
       "  {'date': '2025-11-03', 'forecast_sales': 537.5000000000001},\n",
       "  {'date': '2025-11-04', 'forecast_sales': 543.5000000000002},\n",
       "  {'date': '2025-11-05', 'forecast_sales': 549.5000000000002}]}"
      ]
     },
     "execution_count": 104,
     "metadata": {},
     "output_type": "execute_result"
    }
   ],
   "execution_count": 104
  },
  {
   "metadata": {
    "ExecuteTime": {
     "end_time": "2025-10-15T06:04:56.417507Z",
     "start_time": "2025-10-15T06:04:56.385747Z"
    }
   },
   "cell_type": "code",
   "source": "forecast[1]",
   "id": "af988558271a5797",
   "outputs": [
    {
     "data": {
      "text/plain": [
       "   created_at    sales\n",
       "0  2025-09-17   100.00\n",
       "1  2025-09-19   600.00\n",
       "2  2025-09-25  1400.00\n",
       "3  2025-09-26   300.00\n",
       "4  2025-10-30   300.00"
      ],
      "text/html": [
       "<div>\n",
       "<style scoped>\n",
       "    .dataframe tbody tr th:only-of-type {\n",
       "        vertical-align: middle;\n",
       "    }\n",
       "\n",
       "    .dataframe tbody tr th {\n",
       "        vertical-align: top;\n",
       "    }\n",
       "\n",
       "    .dataframe thead th {\n",
       "        text-align: right;\n",
       "    }\n",
       "</style>\n",
       "<table border=\"1\" class=\"dataframe\">\n",
       "  <thead>\n",
       "    <tr style=\"text-align: right;\">\n",
       "      <th></th>\n",
       "      <th>created_at</th>\n",
       "      <th>sales</th>\n",
       "    </tr>\n",
       "  </thead>\n",
       "  <tbody>\n",
       "    <tr>\n",
       "      <th>0</th>\n",
       "      <td>2025-09-17</td>\n",
       "      <td>100.00</td>\n",
       "    </tr>\n",
       "    <tr>\n",
       "      <th>1</th>\n",
       "      <td>2025-09-19</td>\n",
       "      <td>600.00</td>\n",
       "    </tr>\n",
       "    <tr>\n",
       "      <th>2</th>\n",
       "      <td>2025-09-25</td>\n",
       "      <td>1400.00</td>\n",
       "    </tr>\n",
       "    <tr>\n",
       "      <th>3</th>\n",
       "      <td>2025-09-26</td>\n",
       "      <td>300.00</td>\n",
       "    </tr>\n",
       "    <tr>\n",
       "      <th>4</th>\n",
       "      <td>2025-10-30</td>\n",
       "      <td>300.00</td>\n",
       "    </tr>\n",
       "  </tbody>\n",
       "</table>\n",
       "</div>"
      ]
     },
     "execution_count": 105,
     "metadata": {},
     "output_type": "execute_result"
    }
   ],
   "execution_count": 105
  },
  {
   "metadata": {
    "ExecuteTime": {
     "end_time": "2025-10-15T06:04:56.864694Z",
     "start_time": "2025-10-15T06:04:56.540394Z"
    }
   },
   "cell_type": "code",
   "source": [
    "from sqlalchemy import text\n",
    "import pandas as pd\n",
    "import numpy as np\n",
    "from sklearn.linear_model import LinearRegression\n",
    "from statsmodels.tsa.holtwinters import SimpleExpSmoothing\n",
    "from datetime import timedelta\n",
    "\n",
    "def hybrid_forecast_api(event_id, db, n_future=6, w=0.5):\n",
    "    # 1️⃣ Fetch data\n",
    "    result = db.execute(text(\"\"\"\n",
    "        SELECT o.created_at, pt.quantity, pt.quantity * tt.price AS sales\n",
    "        FROM orders o\n",
    "        JOIN purchased_tickets pt ON o.id = pt.order_id\n",
    "        JOIN ticket_types tt ON o.event_id = tt.event_id\n",
    "        WHERE o.event_id = :event_id\n",
    "        ORDER BY o.created_at\n",
    "    \"\"\"), {\"event_id\": event_id}).fetchall()\n",
    "\n",
    "    df = pd.DataFrame(result, columns=['created_at', 'quantity', 'sales'])\n",
    "    df['created_at'] = pd.to_datetime(df['created_at']).dt.date\n",
    "\n",
    "    # 2️⃣ Group by date\n",
    "    daily_sales = df.groupby('created_at')['sales'].sum().reset_index()\n",
    "\n",
    "    # 3️⃣ Prepare data\n",
    "    sales = daily_sales['sales'].astype(float).values\n",
    "    time = np.arange(len(sales)).reshape(-1, 1)\n",
    "\n",
    "    # 4️⃣ Fit Linear Regression\n",
    "    lr = LinearRegression().fit(time, sales)\n",
    "\n",
    "    # 5️⃣ Fit Simple Exponential Smoothing\n",
    "    ses_model = SimpleExpSmoothing(sales).fit(smoothing_level=0.5, optimized=False)\n",
    "\n",
    "    # 6️⃣ Forecast next n_future days\n",
    "    future_dates = [daily_sales['created_at'].max() + timedelta(days=i+1) for i in range(n_future)]\n",
    "    lr_forecast = [lr.predict([[len(sales)+i]])[0] for i in range(n_future)]\n",
    "    ses_forecast = ses_model.forecast(n_future)\n",
    "    final_forecast = [(1-w)*ses + w*lr for ses, lr in zip(ses_forecast, lr_forecast)]\n",
    "\n",
    "    # 7️⃣ Convert historical to JSON-friendly format with day of week\n",
    "    historical = []\n",
    "    for _, row in daily_sales.iterrows():\n",
    "        date = row['created_at']\n",
    "        historical.append({\n",
    "            \"date\": str(date),\n",
    "            \"day_of_week\": pd.to_datetime(date).strftime(\"%A\"),\n",
    "            \"sales\": float(row['sales'])\n",
    "        })\n",
    "\n",
    "    # 8️⃣ Convert forecast to JSON-friendly format with day of week\n",
    "    forecast = []\n",
    "    for date, value in zip(future_dates, final_forecast):\n",
    "        forecast.append({\n",
    "            \"date\": str(date),\n",
    "            \"day_of_week\": pd.to_datetime(date).strftime(\"%A\"),\n",
    "            \"forecast_sales\": float(value)\n",
    "        })\n",
    "\n",
    "    return {\"historical\": historical, \"forecast\": forecast}\n",
    "hybrid_forecast_api(event_id=event_id, db=db, w=0.6)"
   ],
   "id": "fb500608f4325bbc",
   "outputs": [
    {
     "data": {
      "text/plain": [
       "{'historical': [{'date': '2025-09-17',\n",
       "   'day_of_week': 'Wednesday',\n",
       "   'sales': 100.0},\n",
       "  {'date': '2025-09-19', 'day_of_week': 'Friday', 'sales': 600.0},\n",
       "  {'date': '2025-09-25', 'day_of_week': 'Thursday', 'sales': 1400.0},\n",
       "  {'date': '2025-09-26', 'day_of_week': 'Friday', 'sales': 300.0},\n",
       "  {'date': '2025-10-30', 'day_of_week': 'Thursday', 'sales': 300.0}],\n",
       " 'forecast': [{'date': '2025-10-31',\n",
       "   'day_of_week': 'Friday',\n",
       "   'forecast_sales': 519.5},\n",
       "  {'date': '2025-11-01', 'day_of_week': 'Saturday', 'forecast_sales': 525.5},\n",
       "  {'date': '2025-11-02',\n",
       "   'day_of_week': 'Sunday',\n",
       "   'forecast_sales': 531.5000000000001},\n",
       "  {'date': '2025-11-03',\n",
       "   'day_of_week': 'Monday',\n",
       "   'forecast_sales': 537.5000000000001},\n",
       "  {'date': '2025-11-04',\n",
       "   'day_of_week': 'Tuesday',\n",
       "   'forecast_sales': 543.5000000000002},\n",
       "  {'date': '2025-11-05',\n",
       "   'day_of_week': 'Wednesday',\n",
       "   'forecast_sales': 549.5000000000002}]}"
      ]
     },
     "execution_count": 106,
     "metadata": {},
     "output_type": "execute_result"
    }
   ],
   "execution_count": 106
  },
  {
   "metadata": {
    "ExecuteTime": {
     "end_time": "2025-10-15T07:09:20.075948Z",
     "start_time": "2025-10-15T07:09:12.155149Z"
    }
   },
   "cell_type": "code",
   "source": [
    "from sqlalchemy import text\n",
    "import pandas as pd\n",
    "import numpy as np\n",
    "from sklearn.linear_model import LinearRegression\n",
    "from statsmodels.tsa.holtwinters import SimpleExpSmoothing\n",
    "from datetime import timedelta\n",
    "\n",
    "def hybrid_forecast_api(event_id, db, n_future=6, w=0.5):\n",
    "    \"\"\"\n",
    "    Parameters:\n",
    "    - event_id : str : event identifier\n",
    "    - db : SQLAlchemy Session\n",
    "    - n_future : int : number of days to forecast into the future\n",
    "    - w : float : weight for Linear Regression in hybrid (0-1)\n",
    "    \"\"\"\n",
    "    # 1️⃣ Fetch data\n",
    "    result = db.execute(text(\"\"\"\n",
    "        SELECT o.created_at, pt.quantity, pt.quantity * tt.price AS sales\n",
    "        FROM orders o\n",
    "        JOIN purchased_tickets pt ON o.id = pt.order_id\n",
    "        JOIN ticket_types tt ON o.event_id = tt.event_id\n",
    "        WHERE o.event_id = :event_id\n",
    "        ORDER BY o.created_at\n",
    "    \"\"\"), {\"event_id\": event_id}).fetchall()\n",
    "\n",
    "    df = pd.DataFrame(result, columns=['created_at', 'quantity', 'sales'])\n",
    "    df['created_at'] = pd.to_datetime(df['created_at']).dt.date\n",
    "\n",
    "    # 2️⃣ Group by date\n",
    "    daily_sales = df.groupby('created_at')['sales'].sum().reset_index()\n",
    "\n",
    "    # 3️⃣ Prepare data\n",
    "    sales = daily_sales['sales'].astype(float).values\n",
    "    time = np.arange(len(sales)).reshape(-1, 1)\n",
    "\n",
    "    # 4️⃣ Fit Linear Regression\n",
    "    lr = LinearRegression().fit(time, sales)\n",
    "\n",
    "    # 5️⃣ Fit Simple Exponential Smoothing\n",
    "    ses_model = SimpleExpSmoothing(sales).fit(smoothing_level=0.5, optimized=False)\n",
    "\n",
    "    # 6️⃣ Forecast next n_future days\n",
    "    future_dates = [daily_sales['created_at'].max() + timedelta(days=i+1) for i in range(n_future)]\n",
    "    lr_forecast = [lr.predict([[len(sales)+i]])[0] for i in range(n_future)]\n",
    "    ses_forecast = ses_model.forecast(n_future)\n",
    "    final_forecast = [(1-w)*ses + w*lr for ses, lr in zip(ses_forecast, lr_forecast)]\n",
    "\n",
    "    # 7️⃣ Convert historical to JSON-friendly format with day of week\n",
    "    historical = []\n",
    "    for _, row in daily_sales.iterrows():\n",
    "        date = row['created_at']\n",
    "        historical.append({\n",
    "            \"date\": str(date),\n",
    "            \"day_of_week\": pd.to_datetime(date).strftime(\"%A\"),\n",
    "            \"sales\": float(row['sales'])\n",
    "        })\n",
    "\n",
    "    # 8️⃣ Convert forecast to JSON-friendly format with day of week\n",
    "    forecast = []\n",
    "    for date, value in zip(future_dates, final_forecast):\n",
    "        forecast.append({\n",
    "            \"date\": str(date),\n",
    "            \"day_of_week\": pd.to_datetime(date).strftime(\"%A\"),\n",
    "            \"forecast_sales\": float(value)\n",
    "        })\n",
    "\n",
    "    return {\"historical\": historical, \"forecast\": forecast, \"forecast_horizon_days\": n_future}\n",
    "\n",
    "len(hybrid_forecast_api(event_id=event_id, db=db, n_future=10000, w=0.6)['forecast'])"
   ],
   "id": "46ea8f20d4e06fce",
   "outputs": [
    {
     "data": {
      "text/plain": [
       "10000"
      ]
     },
     "execution_count": 122,
     "metadata": {},
     "output_type": "execute_result"
    }
   ],
   "execution_count": 122
  },
  {
   "metadata": {
    "ExecuteTime": {
     "end_time": "2025-10-15T06:50:17.399084Z",
     "start_time": "2025-10-15T06:49:26.921585Z"
    }
   },
   "cell_type": "code",
   "source": [
    "import random\n",
    "n=10000000\n",
    "r=10\n",
    "c=0\n",
    "c1=0\n",
    "for _ in range(n):\n",
    "    x,y=random.randrange(0,r), random.randrange(0,r)\n",
    "    if x**2+y**2<r:\n",
    "        c+=1\n",
    "    else:\n",
    "        c1+=1\n",
    "\n",
    "r\n",
    "\n"
   ],
   "id": "829d8f59f2bcf9cd",
   "outputs": [
    {
     "data": {
      "text/plain": [
       "10"
      ]
     },
     "execution_count": 121,
     "metadata": {},
     "output_type": "execute_result"
    }
   ],
   "execution_count": 121
  },
  {
   "metadata": {
    "ExecuteTime": {
     "end_time": "2025-10-15T06:04:48.747351555Z",
     "start_time": "2025-10-15T05:55:45.613710Z"
    }
   },
   "cell_type": "code",
   "source": "x,y",
   "id": "a4528c9f431ded3d",
   "outputs": [
    {
     "data": {
      "text/plain": [
       "(2, 5)"
      ]
     },
     "execution_count": 78,
     "metadata": {},
     "output_type": "execute_result"
    }
   ],
   "execution_count": 78
  },
  {
   "metadata": {},
   "cell_type": "code",
   "outputs": [],
   "execution_count": null,
   "source": "",
   "id": "b298de78d9d60eab"
  }
 ],
 "metadata": {
  "kernelspec": {
   "display_name": "Python 3",
   "language": "python",
   "name": "python3"
  },
  "language_info": {
   "codemirror_mode": {
    "name": "ipython",
    "version": 2
   },
   "file_extension": ".py",
   "mimetype": "text/x-python",
   "name": "python",
   "nbconvert_exporter": "python",
   "pygments_lexer": "ipython2",
   "version": "2.7.6"
  }
 },
 "nbformat": 4,
 "nbformat_minor": 5
}
